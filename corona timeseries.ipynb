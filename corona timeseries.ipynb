{
 "cells": [
  {
   "cell_type": "code",
   "execution_count": 2,
   "metadata": {},
   "outputs": [],
   "source": [
    "import pandas as pd\n",
    "import numpy as np\n",
    "import matplotlib.pyplot as plt\n",
    "from statsmodels.tsa.stattools import adfuller\n",
    "from statsmodels.graphics.tsaplots import plot_acf,plot_pacf\n",
    "from statsmodels.tsa.arima_model import ARMA\n",
    "path = \"C:/Users/HP/Desktop/corona1.csv\"\n",
    "from pandas.plotting import register_matplotlib_converters\n",
    "register_matplotlib_converters()\n",
    "\n",
    "dateparse = lambda dates : pd.datetime.strptime(dates, '%m/%d/%Y')\n",
    "data = pd.read_csv(path, parse_dates =['Month'],index_col = 'Month',date_parser = dateparse)\n"
   ]
  },
  {
   "cell_type": "code",
   "execution_count": 3,
   "metadata": {},
   "outputs": [
    {
     "data": {
      "text/html": [
       "<div>\n",
       "<style scoped>\n",
       "    .dataframe tbody tr th:only-of-type {\n",
       "        vertical-align: middle;\n",
       "    }\n",
       "\n",
       "    .dataframe tbody tr th {\n",
       "        vertical-align: top;\n",
       "    }\n",
       "\n",
       "    .dataframe thead th {\n",
       "        text-align: right;\n",
       "    }\n",
       "</style>\n",
       "<table border=\"1\" class=\"dataframe\">\n",
       "  <thead>\n",
       "    <tr style=\"text-align: right;\">\n",
       "      <th></th>\n",
       "      <th>Daily case</th>\n",
       "    </tr>\n",
       "    <tr>\n",
       "      <th>Month</th>\n",
       "      <th></th>\n",
       "    </tr>\n",
       "  </thead>\n",
       "  <tbody>\n",
       "    <tr>\n",
       "      <th>2020-03-10</th>\n",
       "      <td>2.0</td>\n",
       "    </tr>\n",
       "    <tr>\n",
       "      <th>2020-03-11</th>\n",
       "      <td>2.0</td>\n",
       "    </tr>\n",
       "    <tr>\n",
       "      <th>2020-03-12</th>\n",
       "      <td>2.0</td>\n",
       "    </tr>\n",
       "    <tr>\n",
       "      <th>2020-03-13</th>\n",
       "      <td>2.0</td>\n",
       "    </tr>\n",
       "    <tr>\n",
       "      <th>2020-03-14</th>\n",
       "      <td>2.0</td>\n",
       "    </tr>\n",
       "    <tr>\n",
       "      <th>2020-03-15</th>\n",
       "      <td>2.0</td>\n",
       "    </tr>\n",
       "    <tr>\n",
       "      <th>2020-03-16</th>\n",
       "      <td>2.0</td>\n",
       "    </tr>\n",
       "    <tr>\n",
       "      <th>2020-03-17</th>\n",
       "      <td>2.0</td>\n",
       "    </tr>\n",
       "    <tr>\n",
       "      <th>2020-03-18</th>\n",
       "      <td>3.0</td>\n",
       "    </tr>\n",
       "    <tr>\n",
       "      <th>2020-03-19</th>\n",
       "      <td>3.0</td>\n",
       "    </tr>\n",
       "    <tr>\n",
       "      <th>2020-03-20</th>\n",
       "      <td>3.0</td>\n",
       "    </tr>\n",
       "    <tr>\n",
       "      <th>2020-03-21</th>\n",
       "      <td>3.0</td>\n",
       "    </tr>\n",
       "    <tr>\n",
       "      <th>2020-03-22</th>\n",
       "      <td>3.0</td>\n",
       "    </tr>\n",
       "    <tr>\n",
       "      <th>2020-03-23</th>\n",
       "      <td>6.0</td>\n",
       "    </tr>\n",
       "    <tr>\n",
       "      <th>2020-03-24</th>\n",
       "      <td>6.0</td>\n",
       "    </tr>\n",
       "    <tr>\n",
       "      <th>2020-03-25</th>\n",
       "      <td>7.0</td>\n",
       "    </tr>\n",
       "    <tr>\n",
       "      <th>2020-03-26</th>\n",
       "      <td>9.0</td>\n",
       "    </tr>\n",
       "    <tr>\n",
       "      <th>2020-03-27</th>\n",
       "      <td>10.0</td>\n",
       "    </tr>\n",
       "    <tr>\n",
       "      <th>2020-03-28</th>\n",
       "      <td>10.0</td>\n",
       "    </tr>\n",
       "    <tr>\n",
       "      <th>2020-03-29</th>\n",
       "      <td>12.0</td>\n",
       "    </tr>\n",
       "    <tr>\n",
       "      <th>2020-03-30</th>\n",
       "      <td>14.0</td>\n",
       "    </tr>\n",
       "    <tr>\n",
       "      <th>2020-03-31</th>\n",
       "      <td>15.0</td>\n",
       "    </tr>\n",
       "    <tr>\n",
       "      <th>2020-04-01</th>\n",
       "      <td>16.0</td>\n",
       "    </tr>\n",
       "    <tr>\n",
       "      <th>2020-04-02</th>\n",
       "      <td>17.0</td>\n",
       "    </tr>\n",
       "    <tr>\n",
       "      <th>2020-04-03</th>\n",
       "      <td>19.0</td>\n",
       "    </tr>\n",
       "    <tr>\n",
       "      <th>2020-04-04</th>\n",
       "      <td>20.0</td>\n",
       "    </tr>\n",
       "    <tr>\n",
       "      <th>2020-04-05</th>\n",
       "      <td>27.0</td>\n",
       "    </tr>\n",
       "    <tr>\n",
       "      <th>2020-04-06</th>\n",
       "      <td>35.0</td>\n",
       "    </tr>\n",
       "    <tr>\n",
       "      <th>2020-04-07</th>\n",
       "      <td>41.0</td>\n",
       "    </tr>\n",
       "    <tr>\n",
       "      <th>2020-04-08</th>\n",
       "      <td>41.0</td>\n",
       "    </tr>\n",
       "    <tr>\n",
       "      <th>...</th>\n",
       "      <td>...</td>\n",
       "    </tr>\n",
       "    <tr>\n",
       "      <th>2020-04-29</th>\n",
       "      <td>250.0</td>\n",
       "    </tr>\n",
       "    <tr>\n",
       "      <th>2020-04-30</th>\n",
       "      <td>269.0</td>\n",
       "    </tr>\n",
       "    <tr>\n",
       "      <th>2020-05-01</th>\n",
       "      <td>296.0</td>\n",
       "    </tr>\n",
       "    <tr>\n",
       "      <th>2020-05-02</th>\n",
       "      <td>315.0</td>\n",
       "    </tr>\n",
       "    <tr>\n",
       "      <th>2020-05-03</th>\n",
       "      <td>341.0</td>\n",
       "    </tr>\n",
       "    <tr>\n",
       "      <th>2020-05-04</th>\n",
       "      <td>361.0</td>\n",
       "    </tr>\n",
       "    <tr>\n",
       "      <th>2020-05-05</th>\n",
       "      <td>375.0</td>\n",
       "    </tr>\n",
       "    <tr>\n",
       "      <th>2020-05-06</th>\n",
       "      <td>403.0</td>\n",
       "    </tr>\n",
       "    <tr>\n",
       "      <th>2020-05-07</th>\n",
       "      <td>417.0</td>\n",
       "    </tr>\n",
       "    <tr>\n",
       "      <th>2020-05-08</th>\n",
       "      <td>427.0</td>\n",
       "    </tr>\n",
       "    <tr>\n",
       "      <th>2020-05-09</th>\n",
       "      <td>441.0</td>\n",
       "    </tr>\n",
       "    <tr>\n",
       "      <th>2020-05-10</th>\n",
       "      <td>486.0</td>\n",
       "    </tr>\n",
       "    <tr>\n",
       "      <th>2020-05-11</th>\n",
       "      <td>489.0</td>\n",
       "    </tr>\n",
       "    <tr>\n",
       "      <th>2020-05-12</th>\n",
       "      <td>502.0</td>\n",
       "    </tr>\n",
       "    <tr>\n",
       "      <th>2020-05-13</th>\n",
       "      <td>534.0</td>\n",
       "    </tr>\n",
       "    <tr>\n",
       "      <th>2020-05-14</th>\n",
       "      <td>556.0</td>\n",
       "    </tr>\n",
       "    <tr>\n",
       "      <th>2020-05-15</th>\n",
       "      <td>599.0</td>\n",
       "    </tr>\n",
       "    <tr>\n",
       "      <th>2020-05-16</th>\n",
       "      <td>619.0</td>\n",
       "    </tr>\n",
       "    <tr>\n",
       "      <th>2020-05-17</th>\n",
       "      <td>647.0</td>\n",
       "    </tr>\n",
       "    <tr>\n",
       "      <th>2020-05-18</th>\n",
       "      <td>694.0</td>\n",
       "    </tr>\n",
       "    <tr>\n",
       "      <th>2020-05-19</th>\n",
       "      <td>747.0</td>\n",
       "    </tr>\n",
       "    <tr>\n",
       "      <th>2020-05-20</th>\n",
       "      <td>795.0</td>\n",
       "    </tr>\n",
       "    <tr>\n",
       "      <th>2020-05-21</th>\n",
       "      <td>834.0</td>\n",
       "    </tr>\n",
       "    <tr>\n",
       "      <th>2020-05-22</th>\n",
       "      <td>910.0</td>\n",
       "    </tr>\n",
       "    <tr>\n",
       "      <th>2020-05-23</th>\n",
       "      <td>1050.0</td>\n",
       "    </tr>\n",
       "    <tr>\n",
       "      <th>2020-05-24</th>\n",
       "      <td>1182.0</td>\n",
       "    </tr>\n",
       "    <tr>\n",
       "      <th>2020-05-25</th>\n",
       "      <td>1296.0</td>\n",
       "    </tr>\n",
       "    <tr>\n",
       "      <th>2020-05-26</th>\n",
       "      <td>1414.0</td>\n",
       "    </tr>\n",
       "    <tr>\n",
       "      <th>2020-05-27</th>\n",
       "      <td>1525.0</td>\n",
       "    </tr>\n",
       "    <tr>\n",
       "      <th>2020-05-28</th>\n",
       "      <td>1655.0</td>\n",
       "    </tr>\n",
       "  </tbody>\n",
       "</table>\n",
       "<p>80 rows × 1 columns</p>\n",
       "</div>"
      ],
      "text/plain": [
       "            Daily case\n",
       "Month                 \n",
       "2020-03-10         2.0\n",
       "2020-03-11         2.0\n",
       "2020-03-12         2.0\n",
       "2020-03-13         2.0\n",
       "2020-03-14         2.0\n",
       "2020-03-15         2.0\n",
       "2020-03-16         2.0\n",
       "2020-03-17         2.0\n",
       "2020-03-18         3.0\n",
       "2020-03-19         3.0\n",
       "2020-03-20         3.0\n",
       "2020-03-21         3.0\n",
       "2020-03-22         3.0\n",
       "2020-03-23         6.0\n",
       "2020-03-24         6.0\n",
       "2020-03-25         7.0\n",
       "2020-03-26         9.0\n",
       "2020-03-27        10.0\n",
       "2020-03-28        10.0\n",
       "2020-03-29        12.0\n",
       "2020-03-30        14.0\n",
       "2020-03-31        15.0\n",
       "2020-04-01        16.0\n",
       "2020-04-02        17.0\n",
       "2020-04-03        19.0\n",
       "2020-04-04        20.0\n",
       "2020-04-05        27.0\n",
       "2020-04-06        35.0\n",
       "2020-04-07        41.0\n",
       "2020-04-08        41.0\n",
       "...                ...\n",
       "2020-04-29       250.0\n",
       "2020-04-30       269.0\n",
       "2020-05-01       296.0\n",
       "2020-05-02       315.0\n",
       "2020-05-03       341.0\n",
       "2020-05-04       361.0\n",
       "2020-05-05       375.0\n",
       "2020-05-06       403.0\n",
       "2020-05-07       417.0\n",
       "2020-05-08       427.0\n",
       "2020-05-09       441.0\n",
       "2020-05-10       486.0\n",
       "2020-05-11       489.0\n",
       "2020-05-12       502.0\n",
       "2020-05-13       534.0\n",
       "2020-05-14       556.0\n",
       "2020-05-15       599.0\n",
       "2020-05-16       619.0\n",
       "2020-05-17       647.0\n",
       "2020-05-18       694.0\n",
       "2020-05-19       747.0\n",
       "2020-05-20       795.0\n",
       "2020-05-21       834.0\n",
       "2020-05-22       910.0\n",
       "2020-05-23      1050.0\n",
       "2020-05-24      1182.0\n",
       "2020-05-25      1296.0\n",
       "2020-05-26      1414.0\n",
       "2020-05-27      1525.0\n",
       "2020-05-28      1655.0\n",
       "\n",
       "[80 rows x 1 columns]"
      ]
     },
     "execution_count": 3,
     "metadata": {},
     "output_type": "execute_result"
    }
   ],
   "source": [
    "data.head(80)\n",
    "               "
   ]
  },
  {
   "cell_type": "code",
   "execution_count": 4,
   "metadata": {},
   "outputs": [
    {
     "data": {
      "text/plain": [
       "pandas.core.series.Series"
      ]
     },
     "execution_count": 4,
     "metadata": {},
     "output_type": "execute_result"
    }
   ],
   "source": [
    "type(data['Daily case'])"
   ]
  },
  {
   "cell_type": "code",
   "execution_count": 5,
   "metadata": {},
   "outputs": [],
   "source": [
    "data['Daily case'] = data['Daily case'].astype(int)"
   ]
  },
  {
   "cell_type": "code",
   "execution_count": 6,
   "metadata": {},
   "outputs": [
    {
     "data": {
      "text/plain": [
       "[<matplotlib.lines.Line2D at 0xf3ff370>]"
      ]
     },
     "execution_count": 6,
     "metadata": {},
     "output_type": "execute_result"
    },
    {
     "data": {
      "image/png": "[encoded data removed]",
      "text/plain": [
       "<Figure size 432x288 with 1 Axes>"
      ]
     },
     "metadata": {
      "needs_background": "light"
     },
     "output_type": "display_data"
    }
   ],
   "source": [
    "plt.plot(data)"
   ]
  },
  {
   "cell_type": "code",
   "execution_count": 7,
   "metadata": {},
   "outputs": [],
   "source": [
    "ts = data['Daily case']"
   ]
  },
  {
   "cell_type": "code",
   "execution_count": 8,
   "metadata": {},
   "outputs": [
    {
     "data": {
      "text/plain": [
       "Month\n",
       "2020-03-10        2\n",
       "2020-03-11        2\n",
       "2020-03-12        2\n",
       "2020-03-13        2\n",
       "2020-03-14        2\n",
       "2020-03-15        2\n",
       "2020-03-16        2\n",
       "2020-03-17        2\n",
       "2020-03-18        3\n",
       "2020-03-19        3\n",
       "2020-03-20        3\n",
       "2020-03-21        3\n",
       "2020-03-22        3\n",
       "2020-03-23        6\n",
       "2020-03-24        6\n",
       "2020-03-25        7\n",
       "2020-03-26        9\n",
       "2020-03-27       10\n",
       "2020-03-28       10\n",
       "2020-03-29       12\n",
       "2020-03-30       14\n",
       "2020-03-31       15\n",
       "2020-04-01       16\n",
       "2020-04-02       17\n",
       "2020-04-03       19\n",
       "2020-04-04       20\n",
       "2020-04-05       27\n",
       "2020-04-06       35\n",
       "2020-04-07       41\n",
       "2020-04-08       41\n",
       "              ...  \n",
       "2020-06-06     5211\n",
       "2020-06-07     5450\n",
       "2020-06-08     5758\n",
       "2020-06-09     5919\n",
       "2020-06-10     6039\n",
       "2020-06-11     6243\n",
       "2020-06-12     6514\n",
       "2020-06-13     6821\n",
       "2020-06-14     7000\n",
       "2020-06-15     7213\n",
       "2020-06-16     7530\n",
       "2020-06-17     7734\n",
       "2020-06-18     7944\n",
       "2020-06-19     8281\n",
       "2020-06-20     8697\n",
       "2020-06-21     9150\n",
       "2020-06-22     9399\n",
       "2020-06-23     9721\n",
       "2020-06-24    10118\n",
       "2020-06-25    10560\n",
       "2020-06-26    11005\n",
       "2020-06-27    11923\n",
       "2020-06-28    13190\n",
       "2020-06-29    14295\n",
       "2020-06-30    15242\n",
       "2020-07-01    16514\n",
       "2020-07-02    18016\n",
       "2020-07-03    19710\n",
       "2020-07-04    21549\n",
       "2020-07-05    23474\n",
       "Name: Daily case, Length: 118, dtype: int32"
      ]
     },
     "execution_count": 8,
     "metadata": {},
     "output_type": "execute_result"
    }
   ],
   "source": [
    "ts"
   ]
  },
  {
   "cell_type": "code",
   "execution_count": 9,
   "metadata": {},
   "outputs": [
    {
     "data": {
      "text/plain": [
       "[<matplotlib.lines.Line2D at 0xf4ae110>]"
      ]
     },
     "execution_count": 9,
     "metadata": {},
     "output_type": "execute_result"
    },
    {
     "data": {
      "image/png": "[encoded data removed]",
      "text/plain": [
       "<Figure size 432x288 with 1 Axes>"
      ]
     },
     "metadata": {
      "needs_background": "light"
     },
     "output_type": "display_data"
    }
   ],
   "source": [
    "plt.plot(ts)\n"
   ]
  },
  {
   "cell_type": "code",
   "execution_count": 10,
   "metadata": {},
   "outputs": [],
   "source": [
    "def test_stationarity(timeseries):\n",
    "    rolmean = timeseries.rolling(window = 12).mean()\n",
    "    rolstd = timeseries.rolling(window = 12).std()\n",
    "    orig = plt.plot(timeseries, color = \"blue\", label = \"original\")\n",
    "    mean = plt.plot(rolmean, color = \"red\", label = \"rolling mean\")\n",
    "    std = plt.plot(rolstd, color = 'black', label = \"Rolling std\")\n",
    "    plt.legend(loc = 'best')\n",
    "    plt.title(\"Rolling mean and standard deviation\")\n",
    "    plt.show(block = False)\n",
    "    print(\"Results of dickey-fuller test :\")\n",
    "    dftest = adfuller(timeseries, autolag = \"AIC\")\n",
    "    dfoutput = pd.Series(dftest[0:4], index = ['Test Statistic','P-value','#Lags used','Number of Observations Used'])\n",
    "    for key,value in dftest[4].items():\n",
    "        dfoutput['Critical Value (%s)'%key] = value\n",
    "    print (dfoutput)  "
   ]
  },
  {
   "cell_type": "code",
   "execution_count": 11,
   "metadata": {},
   "outputs": [
    {
     "data": {
      "image/png": "[encoded data removed]",
      "text/plain": [
       "<Figure size 432x288 with 1 Axes>"
      ]
     },
     "metadata": {
      "needs_background": "light"
     },
     "output_type": "display_data"
    },
    {
     "name": "stdout",
     "output_type": "stream",
     "text": [
      "Results of dickey-fuller test :\n",
      "Test Statistic                   3.970279\n",
      "P-value                          1.000000\n",
      "#Lags used                      10.000000\n",
      "Number of Observations Used    107.000000\n",
      "Critical Value (1%)             -3.492996\n",
      "Critical Value (5%)             -2.888955\n",
      "Critical Value (10%)            -2.581393\n",
      "dtype: float64\n"
     ]
    }
   ],
   "source": [
    "test_stationarity(ts)\n"
   ]
  },
  {
   "cell_type": "code",
   "execution_count": 12,
   "metadata": {},
   "outputs": [
    {
     "data": {
      "text/plain": [
       "[<matplotlib.lines.Line2D at 0xf554530>]"
      ]
     },
     "execution_count": 12,
     "metadata": {},
     "output_type": "execute_result"
    },
    {
     "data": {
      "image/png": "[encoded data removed]",
      "text/plain": [
       "<Figure size 432x288 with 1 Axes>"
      ]
     },
     "metadata": {
      "needs_background": "light"
     },
     "output_type": "display_data"
    }
   ],
   "source": [
    "ts_log= np.log(ts)\n",
    "plt.plot(ts_log)\n"
   ]
  },
  {
   "cell_type": "code",
   "execution_count": 13,
   "metadata": {},
   "outputs": [
    {
     "data": {
      "text/plain": [
       "[<matplotlib.lines.Line2D at 0xf4ae9f0>]"
      ]
     },
     "execution_count": 13,
     "metadata": {},
     "output_type": "execute_result"
    },
    {
     "data": {
      "image/png": "[encoded data removed]",
      "text/plain": [
       "<Figure size 432x288 with 1 Axes>"
      ]
     },
     "metadata": {
      "needs_background": "light"
     },
     "output_type": "display_data"
    }
   ],
   "source": [
    "moving_avg = ts_log.rolling(window=10).mean()\n",
    "plt.plot(ts_log)\n",
    "plt.plot(moving_avg,color=\"red\")"
   ]
  },
  {
   "cell_type": "code",
   "execution_count": 14,
   "metadata": {},
   "outputs": [
    {
     "data": {
      "text/plain": [
       "Month\n",
       "2020-03-10         NaN\n",
       "2020-03-11         NaN\n",
       "2020-03-12         NaN\n",
       "2020-03-13         NaN\n",
       "2020-03-14         NaN\n",
       "2020-03-15         NaN\n",
       "2020-03-16         NaN\n",
       "2020-03-17         NaN\n",
       "2020-03-18         NaN\n",
       "2020-03-19    0.324372\n",
       "2020-03-20    0.283826\n",
       "2020-03-21    0.243279\n",
       "2020-03-22    0.202733\n",
       "2020-03-23    0.786019\n",
       "2020-03-24    0.676157\n",
       "Name: Daily case, dtype: float64"
      ]
     },
     "execution_count": 14,
     "metadata": {},
     "output_type": "execute_result"
    }
   ],
   "source": [
    "ts_log_moving_avg_diff = ts_log - moving_avg\n",
    "ts_log_moving_avg_diff.head(15)"
   ]
  },
  {
   "cell_type": "code",
   "execution_count": 15,
   "metadata": {},
   "outputs": [
    {
     "data": {
      "image/png": "[encoded data removed]",
      "text/plain": [
       "<Figure size 432x288 with 1 Axes>"
      ]
     },
     "metadata": {
      "needs_background": "light"
     },
     "output_type": "display_data"
    },
    {
     "name": "stdout",
     "output_type": "stream",
     "text": [
      "Results of dickey-fuller test :\n",
      "Test Statistic                 -2.339060\n",
      "P-value                         0.159680\n",
      "#Lags used                     13.000000\n",
      "Number of Observations Used    95.000000\n",
      "Critical Value (1%)            -3.501137\n",
      "Critical Value (5%)            -2.892480\n",
      "Critical Value (10%)           -2.583275\n",
      "dtype: float64\n"
     ]
    }
   ],
   "source": [
    "ts_log_moving_avg_diff.dropna(inplace = True)\n",
    "test_stationarity(ts_log_moving_avg_diff)"
   ]
  },
  {
   "cell_type": "code",
   "execution_count": 16,
   "metadata": {},
   "outputs": [
    {
     "data": {
      "image/png": "[encoded data removed]",
      "text/plain": [
       "<Figure size 432x288 with 1 Axes>"
      ]
     },
     "execution_count": 16,
     "metadata": {},
     "output_type": "execute_result"
    },
    {
     "data": {
      "image/png": "[encoded data removed]",
      "text/plain": [
       "<Figure size 432x288 with 1 Axes>"
      ]
     },
     "metadata": {
      "needs_background": "light"
     },
     "output_type": "display_data"
    }
   ],
   "source": [
    "plot_acf(ts_log_moving_avg_diff)"
   ]
  },
  {
   "cell_type": "code",
   "execution_count": 17,
   "metadata": {},
   "outputs": [
    {
     "data": {
      "image/png": "[encoded data removed]",
      "text/plain": [
       "<Figure size 432x288 with 1 Axes>"
      ]
     },
     "execution_count": 17,
     "metadata": {},
     "output_type": "execute_result"
    },
    {
     "data": {
      "image/png": "[encoded data removed]",
      "text/plain": [
       "<Figure size 432x288 with 1 Axes>"
      ]
     },
     "metadata": {
      "needs_background": "light"
     },
     "output_type": "display_data"
    }
   ],
   "source": [
    "plot_pacf(ts_log_moving_avg_diff)"
   ]
  },
  {
   "cell_type": "code",
   "execution_count": 18,
   "metadata": {},
   "outputs": [
    {
     "name": "stderr",
     "output_type": "stream",
     "text": [
      "c:\\users\\hp\\appdata\\local\\programs\\python\\python37-32\\lib\\site-packages\\statsmodels\\tsa\\base\\tsa_model.py:162: ValueWarning: No frequency information was provided, so inferred frequency D will be used.\n",
      "  % freq, ValueWarning)\n"
     ]
    },
    {
     "data": {
      "text/plain": [
       "Text(0.5, 1.0, 'RSS: 0.5653')"
      ]
     },
     "execution_count": 18,
     "metadata": {},
     "output_type": "execute_result"
    },
    {
     "data": {
      "image/png": "[encoded data removed]",
      "text/plain": [
       "<Figure size 432x288 with 1 Axes>"
      ]
     },
     "metadata": {
      "needs_background": "light"
     },
     "output_type": "display_data"
    }
   ],
   "source": [
    "model = ARMA(ts_log_moving_avg_diff, order=(1,0))  \n",
    "results_ARMA = model.fit(disp=-1)  \n",
    "plt.plot(ts_log_moving_avg_diff)\n",
    "plt.plot(results_ARMA.fittedvalues, color='red')\n",
    "plt.title('RSS: %.4f'% sum((results_ARMA.fittedvalues-ts_log_moving_avg_diff)**2))"
   ]
  },
  {
   "cell_type": "code",
   "execution_count": 19,
   "metadata": {},
   "outputs": [
    {
     "data": {
      "text/html": [
       "<table class=\"simpletable\">\n",
       "<caption>ARMA Model Results</caption>\n",
       "<tr>\n",
       "  <th>Dep. Variable:</th>    <td>Daily case</td>    <th>  No. Observations:  </th>    <td>109</td>  \n",
       "</tr>\n",
       "<tr>\n",
       "  <th>Model:</th>            <td>ARMA(1, 0)</td>    <th>  Log Likelihood     </th>  <td>131.448</td>\n",
       "</tr>\n",
       "<tr>\n",
       "  <th>Method:</th>             <td>css-mle</td>     <th>  S.D. of innovations</th>   <td>0.072</td> \n",
       "</tr>\n",
       "<tr>\n",
       "  <th>Date:</th>          <td>Mon, 13 Jul 2020</td> <th>  AIC                </th> <td>-256.895</td>\n",
       "</tr>\n",
       "<tr>\n",
       "  <th>Time:</th>              <td>21:56:50</td>     <th>  BIC                </th> <td>-248.821</td>\n",
       "</tr>\n",
       "<tr>\n",
       "  <th>Sample:</th>           <td>03-19-2020</td>    <th>  HQIC               </th> <td>-253.621</td>\n",
       "</tr>\n",
       "<tr>\n",
       "  <th></th>                 <td>- 07-05-2020</td>   <th>                     </th>     <td> </td>   \n",
       "</tr>\n",
       "</table>\n",
       "<table class=\"simpletable\">\n",
       "<tr>\n",
       "          <td></td>            <th>coef</th>     <th>std err</th>      <th>z</th>      <th>P>|z|</th>  <th>[0.025</th>    <th>0.975]</th>  \n",
       "</tr>\n",
       "<tr>\n",
       "  <th>const</th>            <td>    0.3711</td> <td>    0.063</td> <td>    5.860</td> <td> 0.000</td> <td>    0.247</td> <td>    0.495</td>\n",
       "</tr>\n",
       "<tr>\n",
       "  <th>ar.L1.Daily case</th> <td>    0.8992</td> <td>    0.039</td> <td>   23.095</td> <td> 0.000</td> <td>    0.823</td> <td>    0.975</td>\n",
       "</tr>\n",
       "</table>\n",
       "<table class=\"simpletable\">\n",
       "<caption>Roots</caption>\n",
       "<tr>\n",
       "    <td></td>   <th>            Real</th>  <th>         Imaginary</th> <th>         Modulus</th>  <th>        Frequency</th>\n",
       "</tr>\n",
       "<tr>\n",
       "  <th>AR.1</th> <td>           1.1121</td> <td>          +0.0000j</td> <td>           1.1121</td> <td>           0.0000</td>\n",
       "</tr>\n",
       "</table>"
      ],
      "text/plain": [
       "<class 'statsmodels.iolib.summary.Summary'>\n",
       "\"\"\"\n",
       "                              ARMA Model Results                              \n",
       "==============================================================================\n",
       "Dep. Variable:             Daily case   No. Observations:                  109\n",
       "Model:                     ARMA(1, 0)   Log Likelihood                 131.448\n",
       "Method:                       css-mle   S.D. of innovations              0.072\n",
       "Date:                Mon, 13 Jul 2020   AIC                           -256.895\n",
       "Time:                        21:56:50   BIC                           -248.821\n",
       "Sample:                    03-19-2020   HQIC                          -253.621\n",
       "                         - 07-05-2020                                         \n",
       "====================================================================================\n",
       "                       coef    std err          z      P>|z|      [0.025      0.975]\n",
       "------------------------------------------------------------------------------------\n",
       "const                0.3711      0.063      5.860      0.000       0.247       0.495\n",
       "ar.L1.Daily case     0.8992      0.039     23.095      0.000       0.823       0.975\n",
       "                                    Roots                                    \n",
       "=============================================================================\n",
       "                  Real          Imaginary           Modulus         Frequency\n",
       "-----------------------------------------------------------------------------\n",
       "AR.1            1.1121           +0.0000j            1.1121            0.0000\n",
       "-----------------------------------------------------------------------------\n",
       "\"\"\""
      ]
     },
     "execution_count": 19,
     "metadata": {},
     "output_type": "execute_result"
    }
   ],
   "source": [
    "results_ARMA.summary()"
   ]
  },
  {
   "cell_type": "code",
   "execution_count": 20,
   "metadata": {},
   "outputs": [
    {
     "name": "stdout",
     "output_type": "stream",
     "text": [
      "Month\n",
      "2020-03-19    0.371094\n",
      "2020-03-20    0.329083\n",
      "2020-03-21    0.292625\n",
      "2020-03-22    0.256167\n",
      "2020-03-23    0.219708\n",
      "dtype: float64\n"
     ]
    }
   ],
   "source": [
    "predictions_ARMA_diff = pd.Series(results_ARMA.fittedvalues)\n",
    "print (predictions_ARMA_diff.head())"
   ]
  },
  {
   "cell_type": "code",
   "execution_count": 21,
   "metadata": {},
   "outputs": [],
   "source": [
    "predictions_ARMA_log = predictions_ARMA_diff.add(moving_avg)"
   ]
  },
  {
   "cell_type": "code",
   "execution_count": 25,
   "metadata": {},
   "outputs": [],
   "source": [
    "predictions_ARMA_log.dropna()"
   ]
  },
  {
   "cell_type": "code",
   "execution_count": 23,
   "metadata": {},
   "outputs": [
    {
     "data": {
      "text/plain": [
       "Text(0.5, 1.0, 'RMSE: nan')"
      ]
     },
     "execution_count": 23,
     "metadata": {},
     "output_type": "execute_result"
    },
    {
     "data": {
      "image/png": "[encoded data removed]",
      "text/plain": [
       "<Figure size 432x288 with 1 Axes>"
      ]
     },
     "metadata": {
      "needs_background": "light"
     },
     "output_type": "display_data"
    }
   ],
   "source": [
    "predictions_ARMA = np.exp(predictions_ARMA_log)\n",
    "plt.plot(ts)\n",
    "plt.plot(predictions_ARMA)\n",
    "plt.title('RMSE: %.4f'% np.sqrt(sum((predictions_ARMA-ts)**2)/len(ts)))"
   ]
  },
  {
   "cell_type": "code",
   "execution_count": 26,
   "metadata": {},
   "outputs": [
    {
     "name": "stdout",
     "output_type": "stream",
     "text": [
      "Month\n",
      "2020-03-10             NaN\n",
      "2020-03-11             NaN\n",
      "2020-03-12             NaN\n",
      "2020-03-13             NaN\n",
      "2020-03-14             NaN\n",
      "2020-03-15             NaN\n",
      "2020-03-16             NaN\n",
      "2020-03-17             NaN\n",
      "2020-03-18             NaN\n",
      "2020-03-19        3.143493\n",
      "2020-03-20        3.138892\n",
      "2020-03-21        3.151751\n",
      "2020-03-22        3.164662\n",
      "2020-03-23        3.405696\n",
      "2020-03-24        6.422350\n",
      "2020-03-25        6.594767\n",
      "2020-03-26        7.866767\n",
      "2020-03-27       10.118073\n",
      "2020-03-28       10.856258\n",
      "2020-03-29       11.191040\n",
      "2020-03-30       13.577915\n",
      "2020-03-31       15.950399\n",
      "2020-04-01       17.360577\n",
      "2020-04-02       17.564143\n",
      "2020-04-03       18.953618\n",
      "2020-04-04       20.975232\n",
      "2020-04-05       22.307614\n",
      "2020-04-06       30.002045\n",
      "2020-04-07       38.980609\n",
      "2020-04-08       44.760650\n",
      "                  ...     \n",
      "2020-06-06     5334.645860\n",
      "2020-06-07     5758.214306\n",
      "2020-06-08     6009.560622\n",
      "2020-06-09     6354.002365\n",
      "2020-06-10     6464.438871\n",
      "2020-06-11     6604.261865\n",
      "2020-06-12     6791.855472\n",
      "2020-06-13     7056.720755\n",
      "2020-06-14     7351.241046\n",
      "2020-06-15     7439.800515\n",
      "2020-06-16     7649.225934\n",
      "2020-06-17     7965.967142\n",
      "2020-06-18     8165.557290\n",
      "2020-06-19     8403.567572\n",
      "2020-06-20     8778.399963\n",
      "2020-06-21     9223.913878\n",
      "2020-06-22     9676.940525\n",
      "2020-06-23     9937.825051\n",
      "2020-06-24    10294.620519\n",
      "2020-06-25    10725.305074\n",
      "2020-06-26    11186.661330\n",
      "2020-06-27    11716.540207\n",
      "2020-06-28    12741.022876\n",
      "2020-06-29    14078.330028\n",
      "2020-06-30    15241.067233\n",
      "2020-07-01    16285.349964\n",
      "2020-07-02    17713.225317\n",
      "2020-07-03    19390.136767\n",
      "2020-07-04    21276.726970\n",
      "2020-07-05    23329.679108\n",
      "Length: 118, dtype: float64\n"
     ]
    }
   ],
   "source": [
    "print(predictions_ARMA)"
   ]
  },
  {
   "cell_type": "code",
   "execution_count": null,
   "metadata": {},
   "outputs": [],
   "source": []
  },
  {
   "cell_type": "code",
   "execution_count": null,
   "metadata": {},
   "outputs": [],
   "source": []
  }
 ],
 "metadata": {
  "kernelspec": {
   "display_name": "Python 3",
   "language": "python",
   "name": "python3"
  },
  "language_info": {
   "codemirror_mode": {
    "name": "ipython",
    "version": 3
   },
   "file_extension": ".py",
   "mimetype": "text/x-python",
   "name": "python",
   "nbconvert_exporter": "python",
   "pygments_lexer": "ipython3",
   "version": "3.7.3"
  }
 },
 "nbformat": 4,
 "nbformat_minor": 4
}
